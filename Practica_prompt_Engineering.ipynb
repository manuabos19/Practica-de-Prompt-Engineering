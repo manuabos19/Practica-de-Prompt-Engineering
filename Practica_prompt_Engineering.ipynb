{
  "nbformat": 4,
  "nbformat_minor": 0,
  "metadata": {
    "colab": {
      "provenance": []
    },
    "kernelspec": {
      "name": "python3",
      "display_name": "Python 3"
    },
    "language_info": {
      "name": "python"
    }
  },
  "cells": [
    {
      "cell_type": "markdown",
      "source": [
        "\n",
        "# Practica de Prompt Engineering\n",
        "\n"
      ],
      "metadata": {
        "id": "_Bufzdvient4"
      }
    },
    {
      "cell_type": "markdown",
      "source": [
        "## Ejercicio 1: Crea un Prompt\n",
        "Para este primer ejercicio desarrollaremos un prompt para la generación de respuestas de correos, este prompt me es muy util en mi trabajo para contestar correos a clientes, compañeros de la empresa o mi jefe. En el incluire todos los parametros necesarios para que la respuesta sea completa"
      ],
      "metadata": {
        "id": "-dpTeaOPezsZ"
      }
    },
    {
      "cell_type": "code",
      "execution_count": 20,
      "metadata": {
        "id": "16GlaGuDenBk"
      },
      "outputs": [],
      "source": [
        "tipo_destinario = 'Cliente'\n",
        "email_enviado = 'Hola, necesito saber el código del parking de Hortaleza'\n",
        "informacion_respuesta = 'El código del parking de Hortaleza es 1945.'\n",
        "tipo_lenguaje = 'formal pero accesible'\n",
        "nombre_destinatario = 'Ivan'\n",
        "idioma = 'Español de España'\n",
        "\n",
        "prompt = f\"\"\"actúa como un *programador de años de experiencia, trabajando en el sector del parking*.\n",
        "Genérame una respuesta al correo enviado por un *{tipo_destinario}* de la empresa teniendo el siguiente contexto del email enviado *{email_enviado}*\n",
        "y la siguiente información que se le tiene que indicar en el correo. *{informacion_respuesta}*.\n",
        "Dado el contexto que te he dado, la respuesta del correo tiene que ser ordenada, sin fallos ortográficos, el lenguaje y el tono debe ser {tipo_lenguaje} y en texto plano.\n",
        "El formato del correo debe ser de la siguiente manera: Primero saludo a la persona destinataria con nombre de {nombre_destinatario},\n",
        "después debe ir en el cuerpo del correo donde se indicará la respuesta del correo y finalmente la despedida en el tono indicado anteriormente como por ejemplo \"Un saludo, quedo a su disposición, etc.. . El idioma de la respuesta tiene que ser {idioma}\"\"\"\n"
      ]
    },
    {
      "cell_type": "code",
      "source": [
        "prompt"
      ],
      "metadata": {
        "colab": {
          "base_uri": "https://localhost:8080/",
          "height": 91
        },
        "id": "ZdzlZOcFhaLH",
        "outputId": "97589c11-c32c-42cb-c76a-c18a61acb998"
      },
      "execution_count": 21,
      "outputs": [
        {
          "output_type": "execute_result",
          "data": {
            "text/plain": [
              "'actúa como un *programador de años de experiencia, trabajando en el sector del parking*. \\nGenérame una respuesta al correo enviado por un *Cliente* de la empresa teniendo el siguiente contexto del email enviado *Hola, necesito saber el código del parking de Hortaleza* \\ny la siguiente información que se le tiene que indicar en el correo. *El código del parking de Hortaleza es 1945.*. \\nDado el contexto que te he dado, la respuesta del correo tiene que ser ordenada, sin fallos ortográficos, el lenguaje y el tono debe ser formal pero accesible y en texto plano. \\nEl formato del correo debe ser de la siguiente manera: Primero saludo a la persona destinataria con nombre de Ivan, \\ndespués debe ir en el cuerpo del correo donde se indicará la respuesta del correo y finalmente la despedida en el tono indicado anteriormente como por ejemplo \"Un saludo, quedo a su disposición, etc.. . El idioma de la respuesta tiene que ser Español de España'"
            ],
            "application/vnd.google.colaboratory.intrinsic+json": {
              "type": "string"
            }
          },
          "metadata": {},
          "execution_count": 21
        }
      ]
    },
    {
      "cell_type": "markdown",
      "source": [
        "**Técnicas Utilizadas**\n",
        "\n",
        "1. **Actuar como una persona específica**  \n",
        "   - **Técnica utilizada:** Asignación de roles  \n",
        "   - El prompt indica que el modelo debe actuar como un programador con experiencia en el sector del parking, lo cual establece un contexto claro y específico para guiar las respuestas del modelo.\n",
        "\n",
        "2. **Definición clara del objetivo**  \n",
        "   - **Técnica utilizada:** Establecimiento del propósito principal  \n",
        "   - El propósito del prompt es generar un correo formal, ordenado y sin fallos, con información específica proporcionada en el contexto.\n",
        "\n",
        "3. **Estructuración del formato esperado**  \n",
        "   - **Técnica utilizada:** Instrucciones explícitas de formato  \n",
        "   - Se detalla cómo debe estructurarse el correo: saludo inicial dirigido al destinatario (\"Iván\"), cuerpo del mensaje con la información solicitada y despedida en tono formal. Esto garantiza que el resultado tenga una estructura clara.\n",
        "\n",
        "4. **Estilo del lenguaje**  \n",
        "   - **Técnica utilizada:** Definición del tono y nivel de formalidad  \n",
        "   - Se indica que el lenguaje debe ser formal pero accesible, asegurando que la comunicación sea profesional y comprensible.\n",
        "\n",
        "5. **Contextualización precisa**  \n",
        "   - **Técnica utilizada:** Inclusión de contexto relevante  \n",
        "   - El prompt incluye el correo recibido por el cliente y la información que se debe proporcionar en la respuesta, facilitando que la salida sea pertinente y correcta.\n",
        "\n",
        "6. **Redacción sin errores**  \n",
        "   - **Técnica utilizada:** Énfasis en la calidad  \n",
        "   - Se establece que el texto debe estar libre de errores ortográficos o gramaticales, asegurando un resultado de alta calidad.\n",
        "\n",
        "7. **Formato de salida definido**  \n",
        "   - **Técnica utilizada:** Estandarización del resultado  \n",
        "   - Especifica que la respuesta debe ser en texto plano, eliminando la posibilidad de desviarse hacia formatos complejos como HTML o texto enriquecido.\n",
        "\n",
        "8. **Idioma de salida**   \n",
        "   - **Técnica utilizada:** Selección de idioma\n",
        "   - Se establece idioma de respuesta del email\n",
        "\n",
        "---\n",
        "\n",
        "**Ejemplo de correo generado aplicando estas técnicas**\n",
        "\n",
        "```plaintext\n",
        "Estimado Iván,\n",
        "\n",
        "Espero este mensaje le encuentre bien.\n",
        "\n",
        "En respuesta a su consulta, le informo que el código del parking de Hortaleza es 1945. Si tiene alguna otra duda o necesita información adicional, no dude en ponerse en contacto con nosotros.\n",
        "\n",
        "Le envío un cordial saludo,  \n",
        "\n"
      ],
      "metadata": {
        "id": "UXZ_WQzwh_Mu"
      }
    },
    {
      "cell_type": "markdown",
      "source": [
        "## Ejercicio 2: Desarrolla la solución al problema\n",
        "Realizaremos la consulta en openai a traves de un template de langchain"
      ],
      "metadata": {
        "id": "pVNk6Vf3j7WD"
      }
    },
    {
      "cell_type": "code",
      "source": [
        "# instalamos las librerias necesarias\n",
        "!pip install langchain langchain-openai"
      ],
      "metadata": {
        "id": "WVoGj1CejTQc"
      },
      "execution_count": null,
      "outputs": []
    },
    {
      "cell_type": "code",
      "source": [
        "# declaramos el chat con la clave de openai\n",
        "\n",
        "from langchain.prompts import ChatPromptTemplate\n",
        "from langchain_openai import ChatOpenAI\n",
        "\n",
        "openai_api_key=\"***\"\n",
        "\n",
        "chat = ChatOpenAI(temperature=0.0, model=\"gpt-3.5-turbo\", api_key = openai_api_key)"
      ],
      "metadata": {
        "id": "Qk13HndUKy69"
      },
      "execution_count": 51,
      "outputs": []
    },
    {
      "cell_type": "code",
      "source": [
        "# template del prompt por langchain\n",
        "\n",
        "tipo_destinario = 'Cliente'\n",
        "email_enviado = 'Hola, necesito saber el código del parking de Hortaleza'\n",
        "informacion_respuesta = 'El código del parking de Hortaleza es 1945.'\n",
        "tipo_lenguaje = 'formal pero accesible'\n",
        "nombre_destinatario = 'Ivan'\n",
        "idioma = 'Español de España'\n",
        "\n",
        "template_string = \"\"\"actúa como un programador de años de experiencia, trabajando en el sector del parking.\n",
        "Genérame una respuesta al correo enviado por un *{tipo_destinario}* de la empresa teniendo el siguiente contexto del email enviado *{email_enviado}*\n",
        "y la siguiente información que se le tiene que indicar en el correo. *{informacion_respuesta}*.\n",
        "Dado el contexto que te he dado, la respuesta del correo tiene que ser ordenada, sin fallos ortográficos, el lenguaje y el tono debe ser {tipo_lenguaje} y en texto plano.\n",
        "El formato del correo debe ser de la siguiente manera: Primero saludo a la persona destinataria con nombre de {nombre_destinatario},\n",
        "después debe ir en el cuerpo del correo donde se indicará la respuesta del correo y finalmente la despedida en el tono indicado anteriormente como por ejemplo \"Un saludo, quedo a su disposición, etc.. . No debes incluir ninguna firma en el correo. El idioma de la respuesta tiene que ser {idioma}\"\"\"\n",
        "\n",
        "prompt_template = ChatPromptTemplate.from_template(template_string)\n",
        "\n",
        "propmt_mensaje = prompt_template.format_messages(\n",
        "                    tipo_destinario=tipo_destinario,\n",
        "                    email_enviado=email_enviado,\n",
        "                    informacion_respuesta=informacion_respuesta,\n",
        "                    tipo_lenguaje=tipo_lenguaje,\n",
        "                    nombre_destinatario=nombre_destinatario,\n",
        "                    idioma=idioma)\n",
        "\n",
        "# generamos la respuesta con el template\n",
        "respuesta_chat = chat(propmt_mensaje)\n",
        "\n",
        "print(respuesta_chat.content)"
      ],
      "metadata": {
        "colab": {
          "base_uri": "https://localhost:8080/"
        },
        "id": "uUA_xJv-OI8a",
        "outputId": "dd6c5535-7c10-4f56-cd38-d1fbcd2c2a75"
      },
      "execution_count": 54,
      "outputs": [
        {
          "output_type": "stream",
          "name": "stdout",
          "text": [
            "Hola Ivan,\n",
            "\n",
            "El código del parking de Hortaleza es 1945.\n",
            "\n",
            "Un saludo, quedo a su disposición.\n"
          ]
        }
      ]
    },
    {
      "cell_type": "code",
      "source": [
        "# ejemplo de respuesta de correo en ingles\n",
        "\n",
        "tipo_destinario = 'Compañero de empresa'\n",
        "email_enviado = 'Hola, dime que herramientas necesitas instalar en tu equipo'\n",
        "informacion_respuesta = 'Necesito el office, configuración del correo, instalar openai para windows y vscode'\n",
        "tipo_lenguaje = 'amigable'\n",
        "nombre_destinatario = 'Jose'\n",
        "idioma = 'Ingles de EEUU'\n",
        "\n",
        "\n",
        "prompt_template = ChatPromptTemplate.from_template(template_string)\n",
        "\n",
        "propmt_mensaje = prompt_template.format_messages(\n",
        "                    tipo_destinario=tipo_destinario,\n",
        "                    email_enviado=email_enviado,\n",
        "                    informacion_respuesta=informacion_respuesta,\n",
        "                    tipo_lenguaje=tipo_lenguaje,\n",
        "                    nombre_destinatario=nombre_destinatario,\n",
        "                    idioma=idioma)\n",
        "\n",
        "# generamos la respuesta con el template\n",
        "respuesta_chat = chat(propmt_mensaje)\n",
        "\n",
        "print(respuesta_chat.content)\n"
      ],
      "metadata": {
        "colab": {
          "base_uri": "https://localhost:8080/"
        },
        "id": "C1Z1W8akOLk8",
        "outputId": "81680b4a-2512-474c-a9c8-da9f014562aa"
      },
      "execution_count": 55,
      "outputs": [
        {
          "output_type": "stream",
          "name": "stdout",
          "text": [
            "Subject: Re: Tools Installation\n",
            "\n",
            "Hi Jose,\n",
            "\n",
            "Thank you for reaching out. I will need the following tools to be installed on my computer:\n",
            "\n",
            "1. Microsoft Office\n",
            "2. Email configuration\n",
            "3. OpenAI for Windows\n",
            "4. Visual Studio Code\n",
            "\n",
            "Please let me know if you need any further information or assistance. \n",
            "\n",
            "Thank you and have a great day!\n",
            "\n",
            "Best regards,\n"
          ]
        }
      ]
    },
    {
      "cell_type": "code",
      "source": [
        "# ejemplo de respuesta de un email para un cliente que no sabe como funciona nuestras apis\n",
        "\n",
        "tipo_destinario = 'Cliente'\n",
        "email_enviado = 'Hola, he recibido el acceso a la api pero no se como funcionan'\n",
        "informacion_respuesta = 'Explicale como funcionan las APIs en forma general, indicale que nuestras APIs funcionan a traves de seguridad Basic. Tambien indicale que estas api se conecta directamente contra nuestro servidor del parking y toda la informacion sale de el '\n",
        "tipo_lenguaje = 'formal'\n",
        "nombre_destinatario = 'Roberto'\n",
        "idioma = 'Español de España'\n",
        "\n",
        "\n",
        "prompt_template = ChatPromptTemplate.from_template(template_string)\n",
        "\n",
        "propmt_mensaje = prompt_template.format_messages(\n",
        "                    tipo_destinario=tipo_destinario,\n",
        "                    email_enviado=email_enviado,\n",
        "                    informacion_respuesta=informacion_respuesta,\n",
        "                    tipo_lenguaje=tipo_lenguaje,\n",
        "                    nombre_destinatario=nombre_destinatario,\n",
        "                    idioma=idioma)\n",
        "\n",
        "# generamos la respuesta con el template\n",
        "respuesta_chat = chat(propmt_mensaje)\n",
        "\n",
        "print(respuesta_chat.content)"
      ],
      "metadata": {
        "colab": {
          "base_uri": "https://localhost:8080/"
        },
        "id": "2C2KfxF0TGHt",
        "outputId": "62908ac5-c11b-43fb-ae86-8a5a83041e79"
      },
      "execution_count": 56,
      "outputs": [
        {
          "output_type": "stream",
          "name": "stdout",
          "text": [
            "Estimado Roberto,\n",
            "\n",
            "Las APIs (Application Programming Interfaces) son conjuntos de reglas y protocolos que permiten a diferentes aplicaciones comunicarse entre sí. En el caso de nuestras APIs, funcionan a través de seguridad Basic, lo que significa que se requiere autenticación para acceder a ellas.\n",
            "\n",
            "Nuestras APIs se conectan directamente contra nuestro servidor del parking, lo que significa que toda la información que se obtiene a través de ellas proviene de nuestro servidor. Esto garantiza la integridad y la seguridad de los datos que se manejan.\n",
            "\n",
            "Espero que esta explicación te haya sido de ayuda. Si tienes alguna otra pregunta o necesitas más información, no dudes en contactarme.\n",
            "\n",
            "Un saludo, quedo a tu disposición.\n"
          ]
        }
      ]
    },
    {
      "cell_type": "markdown",
      "source": [
        "## Script\n",
        "Realizo un script para la ejecución del modelo"
      ],
      "metadata": {
        "id": "_2ncnFTkUckN"
      }
    },
    {
      "cell_type": "code",
      "source": [
        "# %%writefile main.py\n",
        "\n",
        "# declaramos las librerias necesarias y el chat junto a su apiKey\n",
        "\n",
        "from langchain.prompts import ChatPromptTemplate\n",
        "from langchain_openai import ChatOpenAI\n",
        "\n",
        "openai_api_key=\"***\"\n",
        "\n",
        "chat = ChatOpenAI(temperature=0.0, model=\"gpt-3.5-turbo\", api_key = openai_api_key)\n",
        "\n",
        "# indicamos el template del prompt\n",
        "template_string = \"\"\"actúa como un programador de años de experiencia, trabajando en el sector del parking.\n",
        "Genérame una respuesta al correo enviado por un *{tipo_destinario}* de la empresa teniendo el siguiente contexto del email enviado *{email_enviado}*\n",
        "y la siguiente información que se le tiene que indicar en el correo. *{informacion_respuesta}*.\n",
        "Dado el contexto que te he dado, la respuesta del correo tiene que ser ordenada, sin fallos ortográficos, el lenguaje y el tono debe ser {tipo_lenguaje} y en texto plano.\n",
        "El formato del correo debe ser de la siguiente manera: Primero saludo a la persona destinataria con nombre de {nombre_destinatario},\n",
        "después debe ir en el cuerpo del correo donde se indicará la respuesta del correo y finalmente la despedida en el tono indicado anteriormente como por ejemplo \"Un saludo, quedo a su disposición, etc.. . No debes incluir ninguna firma en el correo. El idioma de la respuesta tiene que ser {idioma}\"\"\"\n",
        "\n",
        "\n",
        "# solicitamos los datos necesarios\n",
        "\n",
        "tipo_destinario = input('Indica el tipo de destinatario(Cliente, Jefe, Compañero): ')\n",
        "email_enviado = input('Indica el email que te enviaron: ')\n",
        "informacion_respuesta = input('Indica que información quieres que se indique en la respuesta del correo: ')\n",
        "tipo_lenguaje = input('Indica el tipo de lenguaje con el que quieres que se escriba el correo(formal, amigable, etc..): ')\n",
        "nombre_destinatario = input('Indica el nombre del destinatario del correo: ')\n",
        "idioma = input('Indica el idioma en el que quieras que se escriba el correo: ')\n",
        "\n",
        "# lo añadimos al template para que langchain se encargue de hacer la concatenacion y generar la respuesta\n",
        "prompt_template = ChatPromptTemplate.from_template(template_string)\n",
        "\n",
        "propmt_mensaje = prompt_template.format_messages(\n",
        "                    tipo_destinario=tipo_destinario,\n",
        "                    email_enviado=email_enviado,\n",
        "                    informacion_respuesta=informacion_respuesta,\n",
        "                    tipo_lenguaje=tipo_lenguaje,\n",
        "                    nombre_destinatario=nombre_destinatario,\n",
        "                    idioma=idioma)\n",
        "\n",
        "respuesta_chat = chat(propmt_mensaje)\n",
        "\n",
        "print('---------------------------------')\n",
        "print('Respuesta generada: /n')\n",
        "\n",
        "print(respuesta_chat.content)\n"
      ],
      "metadata": {
        "colab": {
          "base_uri": "https://localhost:8080/"
        },
        "id": "Kogi79kqVipU",
        "outputId": "17f36460-10d0-49a8-c2a0-274155395b20"
      },
      "execution_count": 63,
      "outputs": [
        {
          "output_type": "stream",
          "name": "stdout",
          "text": [
            "Indica el tipo de destinatario(Cliente, Jefe, Compañero): Jefe\n",
            "Indica el email que te enviaron: Buenas Manuel, indicame los proyectos que tienes pendientes. Un saludo\n",
            "Indica que información quieres que se indique en la respuesta del correo: Indica que tengo los siguientes proyectos pendientes: App gmp, validador movil, cajero automatico, abre puertas movil y abre puertas fisico. Ponlo en una lista\n",
            "Indica el tipo de lenguaje con el que quieres que se escriba el correo(formal, amigable, etc..): Formal\n",
            "Indica el nombre del destinatario del correo: Hector\n",
            "Indica el idioma en el que quieras que se escriba el correo: Español de España\n",
            "---------------------------------\n",
            "Respuesta generada: /n\n",
            "Buenas Héctor,\n",
            "\n",
            "Los proyectos pendientes que tengo son los siguientes:\n",
            "\n",
            "1. App gmp\n",
            "2. Validador móvil\n",
            "3. Cajero automático\n",
            "4. Abre puertas móvil\n",
            "5. Abre puertas físico\n",
            "\n",
            "Quedo a la espera de cualquier indicación adicional que necesites.\n",
            "\n",
            "Un saludo, quedo a tu disposición.\n"
          ]
        }
      ]
    }
  ]
}